{
 "cells": [
  {
   "cell_type": "markdown",
   "metadata": {},
   "source": [
    "# 运算符\n",
    "\n",
    "1. 算术运算符\n",
    "2. 比较（关系）运算符\n",
    "3. 赋值运算符\n",
    "4. 逻辑运算符\n",
    "5. 位运算符\n",
    "6. 成员运算符\n",
    "7. 身份运算符"
   ]
  },
  {
   "cell_type": "markdown",
   "metadata": {},
   "source": [
    "## 算数运算符"
   ]
  },
  {
   "cell_type": "markdown",
   "metadata": {},
   "source": [
    "## 比较（关系）运算符"
   ]
  },
  {
   "cell_type": "markdown",
   "metadata": {},
   "source": [
    "## 赋值运算符\n"
   ]
  },
  {
   "cell_type": "markdown",
   "metadata": {},
   "source": [
    "1. =  \n",
    "2. +=  \n",
    "3. -=  \n",
    "4. *=  \n",
    "5. /=  \n",
    "6. %=  \n",
    "6. //=\n",
    "7. :=  "
   ]
  },
  {
   "cell_type": "markdown",
   "metadata": {},
   "source": [
    "### := 海象运算符\n",
    "海象运算符，可在表达式内部为变量赋值。Python3.8 版本新增运算符。"
   ]
  },
  {
   "cell_type": "code",
   "execution_count": 2,
   "metadata": {},
   "outputs": [],
   "source": [
    "a = \"python\"\n",
    "if (n := len(a)) > 10:\n",
    "    print(f\"List is too long ({n} elements, expected <= 10)\")"
   ]
  },
  {
   "cell_type": "markdown",
   "metadata": {},
   "source": [
    "## 逻辑运算符"
   ]
  },
  {
   "cell_type": "markdown",
   "metadata": {},
   "source": [
    "1. and  \n",
    "2. or  \n",
    "3. not"
   ]
  },
  {
   "cell_type": "markdown",
   "metadata": {},
   "source": [
    "## 位运算符"
   ]
  },
  {
   "cell_type": "markdown",
   "metadata": {},
   "source": [
    "1. & \t按位与运算符：参与运算的两个值,如果两个相应位都为1,则该位的结果为1,否则为0\n",
    "2. |    按位或运算符：只要对应的二个二进位有一个为1时，结果位就为1。 \n",
    "3. ^    按位异或运算符：当两对应的二进位相异时，结果为1\n",
    "4. \\~    按位取反运算符：对数据的每个二进制位取反,即把1变为0,把0变为1。\\~x类似于 -x-1\n",
    "5. <<   左移动运算符：运算数的各二进位全部左移若干位，由\"<<\"右边的数指定移动的位数，高位丢弃，低位补0。\n",
    "6. \\>>   右移动运算符：把\">>\"左边的运算数的各二进位全部右移若干位，\">>\"右边的数指定移动的位数"
   ]
  },
  {
   "cell_type": "code",
   "execution_count": 8,
   "metadata": {},
   "outputs": [
    {
     "name": "stdout",
     "output_type": "stream",
     "text": [
      "a&b = 12\n",
      "a|b = 61\n",
      "a^b = 49\n",
      "~a = -61\n"
     ]
    }
   ],
   "source": [
    "a = 60 # 0011 1100\n",
    "b = 13 # 0000 1101\n",
    "a&b # 0000 1100\n",
    "print('a&b = %d' %(a&b))\n",
    "a|b # 0011 1101\n",
    "print('a|b = %d' %(a|b))\n",
    "a^b # 0011 0001\n",
    "print('a^b = %d' %(a^b))\n",
    "~a  # 100 0011\n",
    "print('~a = %d' %(~a))"
   ]
  },
  {
   "cell_type": "markdown",
   "metadata": {},
   "source": [
    "## 成员运算符"
   ]
  },
  {
   "cell_type": "markdown",
   "metadata": {},
   "source": [
    "1. in  \n",
    "2. not in"
   ]
  },
  {
   "cell_type": "markdown",
   "metadata": {},
   "source": [
    "## 身份运算符"
   ]
  },
  {
   "cell_type": "markdown",
   "metadata": {},
   "source": [
    "1. is  \n",
    "2. is not"
   ]
  },
  {
   "cell_type": "code",
   "execution_count": 11,
   "metadata": {},
   "outputs": [
    {
     "name": "stdout",
     "output_type": "stream",
     "text": [
      "True\n",
      "True\n",
      "False\n",
      "True\n"
     ]
    }
   ],
   "source": [
    "a = [1, 2, 3]\n",
    "b = a\n",
    "print(b is a)\n",
    "print(b == a)\n",
    "b = a[:]\n",
    "print(b is a)\n",
    "print(b == a)"
   ]
  },
  {
   "cell_type": "markdown",
   "metadata": {},
   "source": [
    "## 运算符优先级"
   ]
  },
  {
   "cell_type": "markdown",
   "metadata": {},
   "source": [
    "|运算符                    \t |描述                                              |\n",
    "|---------------------------|---------------------------------------------------|\n",
    "|**                        \t|指数 (最高优先级)                                   |\n",
    "|~ + -                      |按位翻转, 一元加号和减号 (最后两个的方法名为 +@ 和 -@)|\n",
    "|* / % //                   |乘，除，求余数和取整除                               |\n",
    "|+ -\t                    |加法减法                                            |\n",
    "|>> <<                   \t|右移，左移运算符                                    |\n",
    "|&\t                        |位 'AND'                                           |\n",
    "|^ \\|\t                    |位运算符                                           |\n",
    "|<= < > >=               \t|比较运算符                                         |\n",
    "|== !=                  \t|等于运算符                                         |\n",
    "|= %= /= //= -= += *= **=\t|赋值运算符                                         |\n",
    "|is is not              \t|身份运算符                                         |\n",
    "|in not in\t                |成员运算符                                         |\n",
    "|not and or\t                |逻辑运算符                                         |"
   ]
  }
 ],
 "metadata": {
  "interpreter": {
   "hash": "4e0208341b896cd9b8bc87c08e89270ff72e73b4f4ee989bb92abdee4727a009"
  },
  "kernelspec": {
   "display_name": "Python 3.9.7 ('base')",
   "language": "python",
   "name": "python3"
  },
  "language_info": {
   "codemirror_mode": {
    "name": "ipython",
    "version": 3
   },
   "file_extension": ".py",
   "mimetype": "text/x-python",
   "name": "python",
   "nbconvert_exporter": "python",
   "pygments_lexer": "ipython3",
   "version": "3.9.7"
  },
  "orig_nbformat": 4
 },
 "nbformat": 4,
 "nbformat_minor": 2
}
