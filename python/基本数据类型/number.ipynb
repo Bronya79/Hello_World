{
 "cells": [
  {
   "cell_type": "markdown",
   "metadata": {},
   "source": [
    "# 数字（number）"
   ]
  },
  {
   "cell_type": "markdown",
   "metadata": {},
   "source": [
    "1. 整形    \n",
    "布尔(bool)是整型的子类型。\n",
    "2. 浮点型  \n",
    "浮点型由整数部分与小数部分组成，浮点型也可以使用科学计数法表示\n",
    "3. 复数    \n",
    "复数由实数部分和虚数部分构成，可以用a + bj,或者complex(a,b)表示， 复数的实部a和虚部b都是浮点型"
   ]
  },
  {
   "cell_type": "markdown",
   "metadata": {},
   "source": [
    "## 数据类型转换"
   ]
  },
  {
   "cell_type": "markdown",
   "metadata": {},
   "source": [
    "## 数学函数"
   ]
  },
  {
   "cell_type": "markdown",
   "metadata": {},
   "source": [
    "|函数\t        |返回值 ( 描述 )                                                                                                    |\n",
    "|---------------|-------------------------------------------------------------------------------------------------------------------|\n",
    "|abs(x)\t        |返回数字的绝对值，如abs(-10) 返回 10                                                                                 |\n",
    "|ceil(x)\t    |返回数字的上入整数，如math.ceil(4.1) 返回 5                                                                          |\n",
    "|cmp(x, y)      |如果 x < y 返回 -1, 如果 x == y 返回 0, 如果 x > y 返回 1。 Python 3 已废弃，使用 (x>y)-(x<y) 替换。                   |\n",
    "|exp(x)\t        |返回e的x次幂(ex),如math.exp(1) 返回2.718281828459045                                                                 |\n",
    "|fabs(x)\t    |返回数字的绝对值，如math.fabs(-10) 返回10.0                                                                           |\n",
    "|floor(x)\t    |返回数字的下舍整数，如math.floor(4.9)返回 4                                                                           |\n",
    "|log(x)\t        |如math.log(math.e)返回1.0,math.log(100,10)返回2.0                                                                   |\n",
    "|log10(x)\t    |返回以10为基数的x的对数，如math.log10(100)返回 2.0                                                                    |\n",
    "|max(x1, x2,...)|\t返回给定参数的最大值，参数可以为序列。                                                                              |\n",
    "|min(x1, x2,...)|\t返回给定参数的最小值，参数可以为序列。                                                                              |\n",
    "|modf(x)\t    |返回x的整数部分与小数部分，两部分的数值符号与x相同，整数部分以浮点型表示。                                                |\n",
    "|pow(x, y)\t    | x**y 运算后的值。                                                                                                    |\n",
    "|round(x [,n])\t|返回浮点数 x 的四舍五入值，如给出 n 值，则代表舍入到小数点后的位数。其实准确的说是保留值将保留到离上一位更近的一端。        |\n",
    "|sqrt(x)\t    |返回数字x的平方根。                                                                                                   |"
   ]
  },
  {
   "cell_type": "markdown",
   "metadata": {},
   "source": [
    "## 随机数函数"
   ]
  },
  {
   "cell_type": "markdown",
   "metadata": {},
   "source": [
    "|函数\t                             |描述                                                                                 |\n",
    "|------------------------------------|------------------------------------------------------------------------------------|\n",
    "|choice(seq)\t                     |从序列的元素中随机挑选一个元素，比如random.choice(range(10))，从0到9中随机挑选一个整数。\n",
    "|randrange ([start,] stop [,step])\t |从指定范围内，按指定基数递增的集合中获取一个随机数，基数默认值为 1\n",
    "|random()\t                         |随机生成下一个实数，它在[0,1)范围内。\n",
    "|seed([x])\t                         |改变随机数生成器的种子seed。\n",
    "|shuffle(lst)\t                     |将序列的所有元素随机排序\n",
    "|uniform(x, y)\t                     |随机生成下一个实数，它在[x,y]范围内。"
   ]
  },
  {
   "cell_type": "markdown",
   "metadata": {},
   "source": [
    "## 三角函数"
   ]
  },
  {
   "cell_type": "markdown",
   "metadata": {},
   "source": [
    "|函数\t      |描述\n",
    "|-------------|----------------\n",
    "|acos(x)      |返回x的反余弦弧度值。\n",
    "|asin(x)      |返回x的反正弦弧度值。\n",
    "|atan(x)      |返回x的反正切弧度值。\n",
    "|atan2(y, x)  |返回给定的 X 及 Y 坐标值的反正切值。\n",
    "|cos(x)\t      |返回x的弧度的余弦值。\n",
    "|hypot(x, y)  |返回欧几里德范数 sqrt(x*x + y*y)。\n",
    "|sin(x)\t      |返回的x弧度的正弦值。\n",
    "|tan(x)\t      |返回x弧度的正切值。\n",
    "|degrees(x)\t  |将弧度转换为角度,如degrees(math.pi/2) ， 返回90.0\n",
    "|radians(x)\t  |将角度转换为弧度"
   ]
  },
  {
   "cell_type": "markdown",
   "metadata": {},
   "source": [
    "## 数学常量"
   ]
  }
 ],
 "metadata": {
  "language_info": {
   "name": "python"
  },
  "orig_nbformat": 4
 },
 "nbformat": 4,
 "nbformat_minor": 2
}
