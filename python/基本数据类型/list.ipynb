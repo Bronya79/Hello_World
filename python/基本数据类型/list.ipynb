{
 "cells": [
  {
   "cell_type": "markdown",
   "metadata": {},
   "source": [
    "# list（列表）"
   ]
  },
  {
   "cell_type": "markdown",
   "metadata": {},
   "source": [
    "## 访问列表中的值"
   ]
  },
  {
   "cell_type": "markdown",
   "metadata": {},
   "source": [
    "## 更新列表"
   ]
  },
  {
   "cell_type": "code",
   "execution_count": 1,
   "metadata": {},
   "outputs": [
    {
     "name": "stdout",
     "output_type": "stream",
     "text": [
      "第三个元素为 :  1997\n",
      "更新后的第三个元素为 :  2001\n",
      "更新后的列表 :  ['Google', 'Runoob', 'Taobao', 'Baidu']\n"
     ]
    }
   ],
   "source": [
    "list = ['Google', 'Runoob', 1997, 2000]\n",
    " \n",
    "print (\"第三个元素为 : \", list[2])\n",
    "list[2] = 2001\n",
    "print (\"更新后的第三个元素为 : \", list[2])\n",
    " \n",
    "list1 = ['Google', 'Runoob', 'Taobao']\n",
    "list1.append('Baidu')\n",
    "print (\"更新后的列表 : \", list1)"
   ]
  },
  {
   "cell_type": "markdown",
   "metadata": {},
   "source": [
    "## 删除列表元素"
   ]
  },
  {
   "cell_type": "code",
   "execution_count": 2,
   "metadata": {},
   "outputs": [
    {
     "name": "stdout",
     "output_type": "stream",
     "text": [
      "原始列表 :  ['Google', 'Runoob', 1997, 2000]\n",
      "删除第三个元素 :  ['Google', 'Runoob', 2000]\n"
     ]
    }
   ],
   "source": [
    "list = ['Google', 'Runoob', 1997, 2000]\n",
    " \n",
    "print (\"原始列表 : \", list)\n",
    "del list[2]\n",
    "print (\"删除第三个元素 : \", list)"
   ]
  },
  {
   "cell_type": "markdown",
   "metadata": {},
   "source": [
    "## Python列表脚本操作符"
   ]
  },
  {
   "cell_type": "markdown",
   "metadata": {},
   "source": [
    "\n",
    "|Python表达式         |\t结果    |描述\n",
    "|--------------------|----------|-------------|\n",
    "len([1, 2, 3])       |\t3\t    |长度\n",
    "[1, 2, 3] + [4, 5, 6]|\t[1, 2, 3, 4, 5, 6]|\t组合\n",
    "['Hi!'] * 4\t         |['Hi!', 'Hi!', 'Hi!', 'Hi!']|\t重复\n",
    "3 in [1, 2, 3]       |\tTrue\t       |            元素是否存在于列表中\n",
    "for x in [1, 2, 3]:  print(x, end=\" \") |\t1 2 3\t|迭代\n"
   ]
  },
  {
   "cell_type": "markdown",
   "metadata": {},
   "source": [
    "## Python列表截取与拼接"
   ]
  },
  {
   "cell_type": "code",
   "execution_count": 3,
   "metadata": {},
   "outputs": [
    {
     "name": "stdout",
     "output_type": "stream",
     "text": [
      "Taobao\n",
      "Runoob\n",
      "['Runoob', 'Taobao']\n"
     ]
    }
   ],
   "source": [
    "L=['Google', 'Runoob', 'Taobao']\n",
    "print(L[2])\n",
    "print(L[-2])\n",
    "print(L[1:])\n"
   ]
  },
  {
   "cell_type": "code",
   "execution_count": 4,
   "metadata": {},
   "outputs": [
    {
     "name": "stdout",
     "output_type": "stream",
     "text": [
      "[1, 4, 9, 16, 25, 36, 49, 64, 81, 100]\n"
     ]
    }
   ],
   "source": [
    "squares = [1, 4, 9, 16, 25]\n",
    "squares += [36, 49, 64, 81, 100]\n",
    "print(squares)"
   ]
  },
  {
   "cell_type": "markdown",
   "metadata": {},
   "source": [
    "## 嵌套列表"
   ]
  },
  {
   "cell_type": "code",
   "execution_count": 1,
   "metadata": {},
   "outputs": [
    {
     "name": "stdout",
     "output_type": "stream",
     "text": [
      "[['a', 'b', 'c'], [1, 2, 3]]\n",
      "['a', 'b', 'c']\n",
      "b\n"
     ]
    }
   ],
   "source": [
    "a = ['a', 'b', 'c']\n",
    "n = [1, 2, 3]\n",
    "x = [a, n]\n",
    "print(x)\n",
    "print(x[0])\n",
    "print(x[0][1])"
   ]
  },
  {
   "cell_type": "markdown",
   "metadata": {},
   "source": [
    "## Python列表函数&方法"
   ]
  },
  {
   "cell_type": "markdown",
   "metadata": {},
   "source": [
    "### 方法"
   ]
  },
  {
   "cell_type": "markdown",
   "metadata": {},
   "source": [
    "1. len(list)\n",
    "2. max(list)\n",
    "3. min(list)\n",
    "4. list(seq)  将元组转换为列表"
   ]
  },
  {
   "cell_type": "markdown",
   "metadata": {},
   "source": [
    "### 函数"
   ]
  },
  {
   "cell_type": "markdown",
   "metadata": {},
   "source": [
    "\n",
    "|序号            \t                       |方法                                  |\n",
    "|-----------------------------------------|---------------------|\n",
    "|1.\tlist.append(obj)                      |在列表末尾添加新的对象|\n",
    "|2.\tlist.count(obj)                      | 统计某个元素在列表中出现的次数|\n",
    "|3.\tlist.extend(seq)                      |在列表末尾一次性追加另一个序列中的多个值（用新列表扩展原来的列表）|\n",
    "|4.\tlist.index(obj)                       |从列表中找出某个值第一个匹配项的索引位置\n",
    "|5.\tlist.insert(index, obj)               |将对象插入列表\n",
    "|6.\tlist.pop([index=-1])                  |移除列表中的一个元素（默认最后一个元素），并且返回该元素的值\n",
    "|7.\tlist.remove(obj)                      |移除列表中某个值的第一个匹配项\n",
    "|8.\tlist.reverse()                       |反向列表中元素\n",
    "|9.\tlist.sort( key=None, reverse=False) |对原列表进行排序\n",
    "|10.\tlist.clear()                       |清空列表\n",
    "|11.\tlist.copy()                          |复制列表"
   ]
  }
 ],
 "metadata": {
  "interpreter": {
   "hash": "4e0208341b896cd9b8bc87c08e89270ff72e73b4f4ee989bb92abdee4727a009"
  },
  "kernelspec": {
   "display_name": "Python 3.9.7 ('base')",
   "language": "python",
   "name": "python3"
  },
  "language_info": {
   "codemirror_mode": {
    "name": "ipython",
    "version": 3
   },
   "file_extension": ".py",
   "mimetype": "text/x-python",
   "name": "python",
   "nbconvert_exporter": "python",
   "pygments_lexer": "ipython3",
   "version": "3.9.7"
  },
  "orig_nbformat": 4
 },
 "nbformat": 4,
 "nbformat_minor": 2
}
