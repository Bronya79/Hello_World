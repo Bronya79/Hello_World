{
 "cells": [
  {
   "cell_type": "markdown",
   "metadata": {},
   "source": [
    "# 推导式"
   ]
  },
  {
   "cell_type": "markdown",
   "metadata": {},
   "source": [
    "## list推导式\n",
    "[out_exp_res for out_exp in input_list]  \n",
    "or  \n",
    "[out_exp_res for out_exp in input_list if condition]  \n",
    "\n",
    "1. out_exp_res：列表生成元素表达式，可以是有返回值的函数。\n",
    "2. for out_exp in input_list：迭代 input_list 将 out_exp 传入到 out_exp_res 表达式中。\n",
    "3. if condition：条件语句，可以过滤列表中不符合条件的值。"
   ]
  },
  {
   "cell_type": "code",
   "execution_count": 1,
   "metadata": {},
   "outputs": [
    {
     "name": "stdout",
     "output_type": "stream",
     "text": [
      "['ALICE', 'JERRY', 'WENDY', 'SMITH']\n"
     ]
    }
   ],
   "source": [
    "names = ['Bob','Tom','alice','Jerry','Wendy','Smith']\n",
    "new_names = [name.upper()for name in names if len(name)>3]\n",
    "print(new_names)"
   ]
  },
  {
   "cell_type": "code",
   "execution_count": 2,
   "metadata": {},
   "outputs": [
    {
     "name": "stdout",
     "output_type": "stream",
     "text": [
      "[0, 3, 6, 9, 12, 15, 18, 21, 24, 27]\n"
     ]
    }
   ],
   "source": [
    "multiples = [i for i in range(30) if i % 3 == 0]\n",
    "print(multiples)"
   ]
  },
  {
   "cell_type": "markdown",
   "metadata": {},
   "source": [
    "## dictionary推导式\n",
    "{ key_expr: value_expr for value in collection }  \n",
    "or  \n",
    "{ key_expr: value_expr for value in collection if condition }\n"
   ]
  },
  {
   "cell_type": "code",
   "execution_count": 3,
   "metadata": {},
   "outputs": [
    {
     "name": "stdout",
     "output_type": "stream",
     "text": [
      "{'Google': 6, 'Runoob': 6, 'Taobao': 6}\n"
     ]
    }
   ],
   "source": [
    "listdemo = ['Google','Runoob', 'Taobao']\n",
    "# 将列表中各字符串值为键，各字符串的长度为值，组成键值对\n",
    "newdict = {key:len(key) for key in listdemo}\n",
    "print(newdict)"
   ]
  },
  {
   "cell_type": "code",
   "execution_count": 4,
   "metadata": {},
   "outputs": [
    {
     "name": "stdout",
     "output_type": "stream",
     "text": [
      "{2: 4, 4: 16, 6: 36}\n"
     ]
    },
    {
     "data": {
      "text/plain": [
       "dict"
      ]
     },
     "execution_count": 4,
     "metadata": {},
     "output_type": "execute_result"
    }
   ],
   "source": [
    "dic = {x: x**2 for x in (2, 4, 6)}\n",
    "print(dic)\n",
    "{2: 4, 4: 16, 6: 36}\n",
    "type(dic)"
   ]
  },
  {
   "cell_type": "markdown",
   "metadata": {},
   "source": [
    "## set推导式\n",
    "{ expression for item in Sequence }  \n",
    "or  \n",
    "{ expression for item in Sequence if conditional }"
   ]
  },
  {
   "cell_type": "code",
   "execution_count": 5,
   "metadata": {},
   "outputs": [
    {
     "name": "stdout",
     "output_type": "stream",
     "text": [
      "{1, 4, 9}\n"
     ]
    }
   ],
   "source": [
    "setnew = {i**2 for i in (1,2,3)}\n",
    "print(setnew)"
   ]
  },
  {
   "cell_type": "code",
   "execution_count": null,
   "metadata": {},
   "outputs": [],
   "source": [
    "a = {x for x in 'abracadabra' if x not in 'abc'}\n",
    "print(a)\n",
    "type(a)"
   ]
  },
  {
   "cell_type": "markdown",
   "metadata": {},
   "source": [
    "## tuple推导式\n",
    "(expression for item in Sequence )  \n",
    "or  \n",
    "(expression for item in Sequence if conditional )  \n",
    "元组推导式和列表推导式的用法也完全相同，只是元组推导式是用 () 圆括号将各部分括起来，  \n",
    "而列表推导式用的是中括号 []，另外元组推导式返回的结果是一个生成器对象。"
   ]
  },
  {
   "cell_type": "code",
   "execution_count": 6,
   "metadata": {},
   "outputs": [
    {
     "data": {
      "text/plain": [
       "(1, 2, 3, 4, 5, 6, 7, 8, 9)"
      ]
     },
     "execution_count": 6,
     "metadata": {},
     "output_type": "execute_result"
    }
   ],
   "source": [
    "a = (x for x in range(1,10))\n",
    "# 返回的是生成器对象\n",
    "tuple(a) # 使用 tuple() 函数，可以直接将生成器对象转换成元组"
   ]
  }
 ],
 "metadata": {
  "interpreter": {
   "hash": "4e0208341b896cd9b8bc87c08e89270ff72e73b4f4ee989bb92abdee4727a009"
  },
  "kernelspec": {
   "display_name": "Python 3.9.7 ('base')",
   "language": "python",
   "name": "python3"
  },
  "language_info": {
   "codemirror_mode": {
    "name": "ipython",
    "version": 3
   },
   "file_extension": ".py",
   "mimetype": "text/x-python",
   "name": "python",
   "nbconvert_exporter": "python",
   "pygments_lexer": "ipython3",
   "version": "3.9.7"
  },
  "orig_nbformat": 4
 },
 "nbformat": 4,
 "nbformat_minor": 2
}
