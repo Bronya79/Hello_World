{
 "cells": [
  {
   "cell_type": "markdown",
   "metadata": {},
   "source": [
    "# 字符串(string)"
   ]
  },
  {
   "cell_type": "markdown",
   "metadata": {},
   "source": [
    "## 字符串访问"
   ]
  },
  {
   "cell_type": "markdown",
   "metadata": {},
   "source": [
    "## 字符串更新"
   ]
  },
  {
   "cell_type": "markdown",
   "metadata": {},
   "source": [
    "## 转义字符\n",
    "反斜杠 \\"
   ]
  },
  {
   "cell_type": "markdown",
   "metadata": {},
   "source": [
    "|转义字符|描述|\n",
    "|---------|--|\n",
    "|\\ |续行符|\n",
    "|\\a|响铃|\n",
    "|\\b|退格|\n",
    "|\\000|空|\n",
    "|\\n|换行|\n",
    "|\\v|纵向制表符|\n",
    "|\\t|横向制表符|\n",
    "|\\r|回车|\n",
    "|\\f|换页|\n",
    "|\\yyy|八进制|\n",
    "|\\xyy|十六进制|\n",
    "|\\other|其他字符以普通格式输出|"
   ]
  },
  {
   "cell_type": "markdown",
   "metadata": {},
   "source": [
    "## 字符串运算符"
   ]
  },
  {
   "cell_type": "markdown",
   "metadata": {},
   "source": [
    "|   |          |\n",
    "|---|-----------|\n",
    "|r/R|原始字符串|\n",
    "|%  |格式化字符串|"
   ]
  },
  {
   "cell_type": "markdown",
   "metadata": {},
   "source": [
    "## 字符串格式化"
   ]
  },
  {
   "cell_type": "markdown",
   "metadata": {},
   "source": [
    "## f-string"
   ]
  },
  {
   "cell_type": "markdown",
   "metadata": {},
   "source": [
    "## Unicode字符串"
   ]
  },
  {
   "cell_type": "markdown",
   "metadata": {},
   "source": [
    "在Python2中，普通字符串是以8位ASCII码进行存储的，而Unicode字符串则存储为16位unicode字符串，这样能够表示更多的字符集。使用的语法是在字符串前面加上前缀 u。\n",
    "\n",
    "在Python3中，所有的字符串都是Unicode字符串。"
   ]
  },
  {
   "cell_type": "markdown",
   "metadata": {},
   "source": [
    "## 字符串内建函数"
   ]
  },
  {
   "cell_type": "code",
   "execution_count": 7,
   "metadata": {},
   "outputs": [
    {
     "name": "stdout",
     "output_type": "stream",
     "text": [
      "Python\n"
     ]
    }
   ],
   "source": [
    "# capitalize() \n",
    "# 将字符串第一个字符改为大写\n",
    "print('python'.capitalize())"
   ]
  },
  {
   "cell_type": "code",
   "execution_count": 11,
   "metadata": {},
   "outputs": [
    {
     "name": "stdout",
     "output_type": "stream",
     "text": [
      "11python11\n"
     ]
    }
   ],
   "source": [
    "# center(width, fillchar)\n",
    "# 返回一个指定的宽度 width 居中的字符串，fillchar 为填充的字符，默认为空格。\n",
    "print('python'.center(10, '1'))"
   ]
  },
  {
   "cell_type": "code",
   "execution_count": 12,
   "metadata": {},
   "outputs": [
    {
     "name": "stdout",
     "output_type": "stream",
     "text": [
      "1\n"
     ]
    }
   ],
   "source": [
    "# count(str, beg = 0, end = len(string))\n",
    "# 返回 str 在 string 里面出现的次数，如果 beg 或者 end 指定则返回指定范围内 str 出现的次数\n",
    "print('python'.count('p'))"
   ]
  },
  {
   "cell_type": "code",
   "execution_count": 13,
   "metadata": {},
   "outputs": [],
   "source": [
    "# bytes.decode(encoding = \"utf-8\", errors = \"strict\")\n",
    "# Python3 中没有 decode 方法，但我们可以使用 bytes 对象的 decode() 方法来解码给定的 bytes 对象，这个 bytes 对象可以由 str.encode() 来编码返回。"
   ]
  },
  {
   "cell_type": "code",
   "execution_count": null,
   "metadata": {},
   "outputs": [],
   "source": [
    "# encode(encoding = \"UTF-8\", errors = \"strict\")\n",
    "# 以 encoding 指定的编码格式编码字符串，如果出错默认报一个ValueError 的异常，除非 errors 指定的是'ignore'或者'replace'"
   ]
  },
  {
   "cell_type": "code",
   "execution_count": 15,
   "metadata": {},
   "outputs": [
    {
     "name": "stdout",
     "output_type": "stream",
     "text": [
      "False\n",
      "True\n"
     ]
    }
   ],
   "source": [
    "# endswith(suffix, beg = 0, end = len(string))\n",
    "# 检查字符串是否以 obj 结束，如果beg 或者 end 指定则检查指定的范围内是否以 obj 结束，如果是，返回 True,否则返回 False.\n",
    "print('python'.endswith('p'))\n",
    "print('python'.endswith('n'))\n",
    "# suffix -- 该参数可以是一个字符串或者是一个元素。\n",
    "# start -- 字符串中的开始位置。\n",
    "# end -- 字符中结束位置。\n",
    "Str='Runoob example....wow!!!'\n",
    "suffix='!!'\n",
    "print (Str.endswith(suffix))\n",
    "print (Str.endswith(suffix,20))\n",
    "suffix='run'\n",
    "print (Str.endswith(suffix))\n",
    "print (Str.endswith(suffix, 0, 19))"
   ]
  },
  {
   "cell_type": "code",
   "execution_count": 4,
   "metadata": {},
   "outputs": [
    {
     "name": "stdout",
     "output_type": "stream",
     "text": [
      "原始字符串: runoob\t12345\tabc\n",
      "替换 \\t 符号: runoob  12345   abc\n",
      "使用 2 个空格替换 \\t 符号: runoob  12345 abc\n",
      "使用 3 个空格: runoob   12345 abc\n",
      "使用 4 个空格: runoob  12345   abc\n",
      "使用 5 个空格: runoob    12345     abc\n",
      "使用 6 个空格: runoob      12345 abc\n"
     ]
    }
   ],
   "source": [
    "# expandtabs(tabsize=8)\n",
    "# 把字符串 string 中的 tab 符号转为空格，tab 符号默认的空格数是 8 。\n",
    "str = \"runoob\\t12345\\tabc\"  \n",
    "print('原始字符串:', str)\n",
    "\n",
    "# 默认 8 个空格\n",
    "# runnob 有 6 个字符，后面的 \\t 填充 2 个空格\n",
    "# 12345 有 5 个字符，后面的 \\t 填充 3 个空格\n",
    "print('替换 \\\\t 符号:', str.expandtabs())\n",
    "\n",
    "# 2 个空格\n",
    "# runnob 有 6 个字符，刚好是 2 的 3 倍，后面的 \\t 填充 2 个空格\n",
    "# 12345 有 5 个字符，不是 2 的倍数，后面的 \\t 填充 1 个空格\n",
    "print('使用 2 个空格替换 \\\\t 符号:', str.expandtabs(2))\n",
    " \n",
    "# 3 个空格\n",
    "print('使用 3 个空格:', str.expandtabs(3))\n",
    " \n",
    "# 4 个空格\n",
    "print('使用 4 个空格:', str.expandtabs(4))\n",
    " \n",
    "# 5 个空格\n",
    "print('使用 5 个空格:', str.expandtabs(5))\n",
    " \n",
    "# 6 个空格\n",
    "print('使用 6 个空格:', str.expandtabs(6))"
   ]
  },
  {
   "cell_type": "code",
   "execution_count": 7,
   "metadata": {},
   "outputs": [
    {
     "name": "stdout",
     "output_type": "stream",
     "text": [
      "0\n",
      "-1\n",
      "5\n"
     ]
    }
   ],
   "source": [
    "# find(str, beg = 0, end = len(string))\n",
    "# 检测 str 是否包含在字符串中，如果指定范围 beg 和 end ，则检查是否包含在指定范围内，如果包含返回开始的索引值，否则返回-1\n",
    "print('python'.find('p'))\n",
    "print('python'.find('a'))\n",
    "print('python'.find('n'))\n",
    "\n",
    "str1 = \"Runoob example....wow!!!\"\n",
    "str2 = \"exam\"\n",
    "\n",
    "print (str1.find(str2))\n",
    "print (str1.find(str2, 5))\n",
    "print (str1.find(str2, 10))\n"
   ]
  },
  {
   "cell_type": "code",
   "execution_count": 10,
   "metadata": {},
   "outputs": [
    {
     "name": "stdout",
     "output_type": "stream",
     "text": [
      "0\n"
     ]
    }
   ],
   "source": [
    "# index(str, beg = 0, end = len(string))\n",
    "# 跟find()方法一样，只不过如果str不在字符串中会报一个异常\n",
    "print('python'.index('p'))\n",
    "print('python'.index('x'))"
   ]
  },
  {
   "cell_type": "code",
   "execution_count": 14,
   "metadata": {},
   "outputs": [
    {
     "name": "stdout",
     "output_type": "stream",
     "text": [
      "False\n",
      "False\n",
      "True\n",
      "True\n",
      "False\n",
      "True\n",
      "True\n"
     ]
    }
   ],
   "source": [
    "# isalnum()\n",
    "# 如果字符串至少有一个字符并且所有字符都是字母或数字则返 回 True，否则返回 False\n",
    "print(''.isalnum())  # 无字符\n",
    "print('    '.isalnum())  # 不是字母或数字\n",
    "print('121621'.isalnum())  # 数字\n",
    "print('121saiuhdua621'.isalnum())  # 有数字和字母\n",
    "print('121sa---iuhdua621'.isalnum())  # 有非字符\n",
    "print('asnjknadkjnak'.isalnum())  # 有字母\n",
    "print('你好'.isalnum())  # "
   ]
  },
  {
   "cell_type": "code",
   "execution_count": null,
   "metadata": {},
   "outputs": [],
   "source": [
    "# isalpha()\n",
    "# 如果字符串至少有一个字符并且所有字符都是字母或中文字则返回 True, 否则返回 False"
   ]
  },
  {
   "cell_type": "code",
   "execution_count": null,
   "metadata": {},
   "outputs": [],
   "source": [
    "# isdigit()\n",
    "# 如果字符串只包含数字则返回 True 否则返回 False"
   ]
  },
  {
   "cell_type": "code",
   "execution_count": null,
   "metadata": {},
   "outputs": [],
   "source": [
    "# islower\n",
    "# 如果字符串中包含至少一个区分大小写的字符，并且所有这些(区分大小写的)字符都是小写，则返回 True，否则返回 False"
   ]
  },
  {
   "cell_type": "code",
   "execution_count": null,
   "metadata": {},
   "outputs": [],
   "source": [
    "# isnumeric()\n",
    "# 如果字符串中只包含数字字符，则返回 True，否则返回 False"
   ]
  },
  {
   "cell_type": "code",
   "execution_count": null,
   "metadata": {},
   "outputs": [],
   "source": [
    "# isspace()\n",
    "# 如果字符串中只包含空白，则返回 True，否则返回 False."
   ]
  },
  {
   "cell_type": "code",
   "execution_count": null,
   "metadata": {},
   "outputs": [],
   "source": [
    "# istitle()\n",
    "# 如果字符串是标题化的(见 title())则返回 True，否则返回 False"
   ]
  },
  {
   "cell_type": "code",
   "execution_count": null,
   "metadata": {},
   "outputs": [],
   "source": [
    "# isupper()\n",
    "# 如果字符串中包含至少一个区分大小写的字符，并且所有这些(区分大小写的)字符都是大写，则返回 True，否则返回 False"
   ]
  },
  {
   "cell_type": "code",
   "execution_count": 15,
   "metadata": {},
   "outputs": [
    {
     "name": "stdout",
     "output_type": "stream",
     "text": [
      "r-u-n-o-o-b\n",
      "runoob\n"
     ]
    }
   ],
   "source": [
    "# join(seq)\n",
    "# 以指定字符串作为分隔符，将 seq 中所有的元素(的字符串表示)合并为一个新的字符串\n",
    "# seq -- 要连接的元素序列。\n",
    "s1 = \"-\"\n",
    "s2 = \"\"\n",
    "seq = (\"r\", \"u\", \"n\", \"o\", \"o\", \"b\") # 字符串序列\n",
    "print (s1.join( seq ))\n",
    "print (s2.join( seq ))"
   ]
  }
 ],
 "metadata": {
  "interpreter": {
   "hash": "4e0208341b896cd9b8bc87c08e89270ff72e73b4f4ee989bb92abdee4727a009"
  },
  "kernelspec": {
   "display_name": "Python 3.9.7 ('base')",
   "language": "python",
   "name": "python3"
  },
  "language_info": {
   "codemirror_mode": {
    "name": "ipython",
    "version": 3
   },
   "file_extension": ".py",
   "mimetype": "text/x-python",
   "name": "python",
   "nbconvert_exporter": "python",
   "pygments_lexer": "ipython3",
   "version": "3.9.7"
  },
  "orig_nbformat": 4
 },
 "nbformat": 4,
 "nbformat_minor": 2
}
