{
 "cells": [
  {
   "cell_type": "code",
   "execution_count": null,
   "metadata": {},
   "outputs": [],
   "source": [
    "class Car():\n",
    "    price = 30000\n",
    "\n",
    "    def __init__(self, name):\n",
    "        self.name = name\n",
    "        self.color = \"\"\n",
    "    \n",
    "    def setColor(self, color):\n",
    "        self.color = color\n"
   ]
  }
 ],
 "metadata": {
  "language_info": {
   "name": "python"
  },
  "orig_nbformat": 4
 },
 "nbformat": 4,
 "nbformat_minor": 2
}
