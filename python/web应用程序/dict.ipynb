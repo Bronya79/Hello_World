{
 "cells": [
  {
   "cell_type": "markdown",
   "metadata": {},
   "source": [
    "字典是另一种可变容器模型，且可存储任意类型对象。\n",
    "\n",
    "字典的每个键值 key=>value 对用冒号 : 分割，每个对之间用逗号(,)分割，整个字典包括在花括号 {} 中 ,格式如下所示：\n",
    "\n",
    "d = {key1 : value1, key2 : value2, key3 : value3 }\n",
    "注意：dict 作为 Python 的关键字和内置函数，变量名不建议命名为 dict。"
   ]
  },
  {
   "cell_type": "markdown",
   "metadata": {},
   "source": [
    "键必须是唯一的，但值则不必。\n",
    "\n",
    "值可以取任何数据类型，但键必须是不可变的，如字符串，数字。\n",
    "\n",
    "一个简单的字典实例：\n",
    "\n",
    "tinydict = {'name': 'runoob', 'likes': 123, 'url': 'www.runoob.com'}"
   ]
  },
  {
   "cell_type": "markdown",
   "metadata": {},
   "source": [
    "也可如此创建字典：\n",
    "\n",
    "tinydict1 = { 'abc': 456 }\n",
    "tinydict2 = { 'abc': 123, 98.6: 37 }"
   ]
  },
  {
   "cell_type": "markdown",
   "metadata": {},
   "source": [
    "## 创建空字典  \n",
    "使用大括号 { } 创建空字典：\n",
    "\n",
    "实例  \n",
    "使用大括号 {} 来创建空字典\n",
    "emptyDict = {}\n",
    " \n",
    "打印字典  \n",
    "print(emptyDict)\n",
    " \n",
    "查看字典的数量  \n",
    "print(\"Length:\", len(emptyDict))\n",
    " \n",
    "查看类型  \n",
    "print(type(emptyDict))"
   ]
  }
 ],
 "metadata": {
  "language_info": {
   "name": "python"
  },
  "orig_nbformat": 4
 },
 "nbformat": 4,
 "nbformat_minor": 2
}
