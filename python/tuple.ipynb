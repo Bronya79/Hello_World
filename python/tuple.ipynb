{
 "cells": [
  {
   "cell_type": "markdown",
   "metadata": {},
   "source": [
    "# 元组\n",
    "Python 的元组与列表类似，不同之处在于元组的元素不能修改。\n",
    "元组使用小括号 ( )，列表使用方括号 [ ]。\n",
    "元组创建很简单，只需要在括号中添加元素，并使用逗号隔开即可。"
   ]
  },
  {
   "cell_type": "code",
   "execution_count": 2,
   "metadata": {},
   "outputs": [
    {
     "name": "stdout",
     "output_type": "stream",
     "text": [
      "<class 'tuple'>\n"
     ]
    }
   ],
   "source": [
    "tup1 = ('Google', 'Runoob', 1997, 2000)\n",
    "tup2 = (1, 2, 3, 4, 5 )\n",
    "tup3 = \"a\", \"b\", \"c\", \"d\"   #  不需要括号也可以\n",
    "print(type(tup3))"
   ]
  },
  {
   "cell_type": "markdown",
   "metadata": {},
   "source": [
    "## 创建空元组\n",
    "tup1 = ()  \n",
    "元组中只包含一个元素时，需要在元素后面添加逗号 , ，否则括号会被当作运算符使用："
   ]
  },
  {
   "cell_type": "code",
   "execution_count": 1,
   "metadata": {},
   "outputs": [
    {
     "name": "stdout",
     "output_type": "stream",
     "text": [
      "<class 'int'>\n",
      "<class 'tuple'>\n"
     ]
    }
   ],
   "source": [
    "tup1 = (50)\n",
    "print(type(tup1))     # 不加逗号，类型为整型\n",
    "\n",
    "tup1 = (50,)\n",
    "print(type(tup1))     # 加上逗号，类型为元组"
   ]
  },
  {
   "cell_type": "markdown",
   "metadata": {},
   "source": [
    "## 修改元组  \n",
    "元组中的元素值是不允许修改的，但我们可以对元组进行连接组合，如下实例:"
   ]
  },
  {
   "cell_type": "code",
   "execution_count": 3,
   "metadata": {},
   "outputs": [
    {
     "name": "stdout",
     "output_type": "stream",
     "text": [
      "(12, 34.56, 'abc', 'xyz')\n"
     ]
    }
   ],
   "source": [
    "tup1 = (12, 34.56)\n",
    "tup2 = ('abc', 'xyz')\n",
    " \n",
    "# 以下修改元组元素操作是非法的。\n",
    "# tup1[0] = 100\n",
    " \n",
    "# 创建一个新的元组\n",
    "tup3 = tup1 + tup2\n",
    "print (tup3)"
   ]
  },
  {
   "cell_type": "markdown",
   "metadata": {},
   "source": [
    "## 删除元组\n",
    "元组中的元素值是不允许删除的，但我们可以使用del语句来删除整个元组，如下实例:"
   ]
  },
  {
   "cell_type": "code",
   "execution_count": 4,
   "metadata": {},
   "outputs": [
    {
     "name": "stdout",
     "output_type": "stream",
     "text": [
      "('Google', 'Runoob', 1997, 2000)\n",
      "删除后的元组 tup : \n"
     ]
    },
    {
     "ename": "NameError",
     "evalue": "name 'tup' is not defined",
     "output_type": "error",
     "traceback": [
      "\u001b[1;31m---------------------------------------------------------------------------\u001b[0m",
      "\u001b[1;31mNameError\u001b[0m                                 Traceback (most recent call last)",
      "\u001b[1;32m~\\AppData\\Local\\Temp/ipykernel_23356/156725195.py\u001b[0m in \u001b[0;36m<module>\u001b[1;34m\u001b[0m\n\u001b[0;32m      3\u001b[0m \u001b[1;32mdel\u001b[0m \u001b[0mtup\u001b[0m\u001b[1;33m\u001b[0m\u001b[1;33m\u001b[0m\u001b[0m\n\u001b[0;32m      4\u001b[0m \u001b[0mprint\u001b[0m \u001b[1;33m(\u001b[0m\u001b[1;34m\"删除后的元组 tup : \"\u001b[0m\u001b[1;33m)\u001b[0m\u001b[1;33m\u001b[0m\u001b[1;33m\u001b[0m\u001b[0m\n\u001b[1;32m----> 5\u001b[1;33m \u001b[0mprint\u001b[0m \u001b[1;33m(\u001b[0m\u001b[0mtup\u001b[0m\u001b[1;33m)\u001b[0m\u001b[1;33m\u001b[0m\u001b[1;33m\u001b[0m\u001b[0m\n\u001b[0m",
      "\u001b[1;31mNameError\u001b[0m: name 'tup' is not defined"
     ]
    }
   ],
   "source": [
    "tup = ('Google', 'Runoob', 1997, 2000)\n",
    "print (tup)\n",
    "del tup\n",
    "print (\"删除后的元组 tup : \")\n",
    "print (tup)\n"
   ]
  },
  {
   "cell_type": "markdown",
   "metadata": {},
   "source": [
    "以上实例元组被删除后，输出变量会有异常信息，输出如下所示：\n",
    "\n",
    "删除后的元组 tup : \n",
    "Traceback (most recent call last):\n",
    "  File \"test.py\", line 8, in <module>\n",
    "    print (tup)\n",
    "NameError: name 'tup' is not defined"
   ]
  },
  {
   "cell_type": "markdown",
   "metadata": {},
   "source": [
    "## 元组运算符\n",
    "与字符串一样，元组之间可以使用 + 号和 * 号进行运算。这就意味着他们可以组合和复制，运算后会生成一个新的元组。"
   ]
  },
  {
   "cell_type": "markdown",
   "metadata": {},
   "source": [
    "## 元组索引，截取\n",
    "因为元组也是一个序列，所以我们可以访问元组中的指定位置的元素，也可以截取索引中的一段元素，如下所示："
   ]
  },
  {
   "cell_type": "code",
   "execution_count": 14,
   "metadata": {},
   "outputs": [
    {
     "name": "stdout",
     "output_type": "stream",
     "text": [
      "Runoob Weibo ('Runoob', 'Taobao', 'Wiki', 'Weibo', 'Weixin') ('Runoob', 'Taobao', 'Wiki')\n"
     ]
    }
   ],
   "source": [
    "tup = ('Google', 'Runoob', 'Taobao', 'Wiki', 'Weibo','Weixin')\n",
    "print(tup[1], tup[-2], tup[1:],  tup[1:4])"
   ]
  },
  {
   "cell_type": "markdown",
   "metadata": {},
   "source": [
    "## 元组内置函数\n",
    "Python元组包含了以下内置函数\n",
    "\n",
    "序号\t方法及描述\t实例\n",
    "1\tlen(tuple)\n",
    "计算元组元素个数。\t\n",
    ">>> tuple1 = ('Google', 'Runoob', 'Taobao')  \n",
    ">>> len(tuple1)  \n",
    "3\n",
    ">>> \n",
    "2\tmax(tuple)  \n",
    "返回元组中元素最大值。  \t\n",
    ">>> tuple2 = ('5', '4', '8')  \n",
    ">>> max(tuple2)  \n",
    "'8'  \n",
    ">>> \n",
    "3\tmin(tuple)  \n",
    "返回元组中元素最小值。  \t\n",
    ">>> tuple2 = ('5', '4', '8')  \n",
    ">>> min(tuple2)  \n",
    "'4'  \n",
    ">>> \n",
    "4\ttuple(iterable)  \n",
    "将可迭代系列转换为元组。  "
   ]
  },
  {
   "cell_type": "markdown",
   "metadata": {},
   "source": [
    "## 关于元组是不可变的\n",
    "所谓元组的不可变指的是元组所指向的内存中的内容不可变。\n",
    "\n",
    ">>> tup = ('r', 'u', 'n', 'o', 'o', 'b')  \n",
    ">>> tup[0] = 'g'     # 不支持修改元素  \n",
    "Traceback (most recent call last):  \n",
    "  File \"<stdin>\", line 1, in <module>  \n",
    "TypeError: 'tuple' object does not support item assignment  \n",
    ">>> id(tup)     # 查看内存地址  \n",
    "4440687904\n",
    ">>> tup = (1,2,3)  \n",
    ">>> id(tup)\n",
    "4441088800    # 内存地址不一样了  \n",
    "从以上实例可以看出，重新赋值的元组 tup，绑定到新的对象了，不是修改了原来的对象。  "
   ]
  }
 ],
 "metadata": {
  "interpreter": {
   "hash": "4e0208341b896cd9b8bc87c08e89270ff72e73b4f4ee989bb92abdee4727a009"
  },
  "kernelspec": {
   "display_name": "Python 3.9.7 ('base')",
   "language": "python",
   "name": "python3"
  },
  "language_info": {
   "codemirror_mode": {
    "name": "ipython",
    "version": 3
   },
   "file_extension": ".py",
   "mimetype": "text/x-python",
   "name": "python",
   "nbconvert_exporter": "python",
   "pygments_lexer": "ipython3",
   "version": "3.9.7"
  },
  "orig_nbformat": 4
 },
 "nbformat": 4,
 "nbformat_minor": 2
}
